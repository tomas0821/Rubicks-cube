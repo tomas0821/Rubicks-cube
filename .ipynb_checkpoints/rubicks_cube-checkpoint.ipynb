{
 "cells": [
  {
   "cell_type": "markdown",
   "metadata": {
    "toc": "true"
   },
   "source": [
    " # Table of Contents\n",
    "<div class=\"toc\" style=\"margin-top: 1em;\"><ul class=\"toc-item\" id=\"toc-level0\"><li><span><a href=\"http://localhost:8888/notebooks/rubicks_cube.ipynb#Solving-Rubicks-Cube\" data-toc-modified-id=\"Solving-Rubicks-Cube-1\"><span class=\"toc-item-num\">1&nbsp;&nbsp;</span>Solving Rubicks Cube</a></span></li><li><span><a href=\"http://localhost:8888/notebooks/rubicks_cube.ipynb#Introduction\" data-toc-modified-id=\"Introduction-2\"><span class=\"toc-item-num\">2&nbsp;&nbsp;</span>Introduction</a></span></li><li><span><a href=\"http://localhost:8888/notebooks/rubicks_cube.ipynb#Top-Cross-Matched\" data-toc-modified-id=\"Top-Cross-Matched-3\"><span class=\"toc-item-num\">3&nbsp;&nbsp;</span>Top Cross Matched</a></span></li><li><span><a href=\"http://localhost:8888/notebooks/rubicks_cube.ipynb#Top-Corners-Matched-(Then-invert-the-cube).\" data-toc-modified-id=\"Top-Corners-Matched-(Then-invert-the-cube).-4\"><span class=\"toc-item-num\">4&nbsp;&nbsp;</span>Top Corners Matched (Then invert the cube).</a></span></li><li><span><a href=\"http://localhost:8888/notebooks/rubicks_cube.ipynb#Middle-Layer\" data-toc-modified-id=\"Middle-Layer-5\"><span class=\"toc-item-num\">5&nbsp;&nbsp;</span>Middle Layer</a></span></li><li><span><a href=\"http://localhost:8888/notebooks/rubicks_cube.ipynb#Top-Cross-Unmatched-(After-inversion)\" data-toc-modified-id=\"Top-Cross-Unmatched-(After-inversion)-6\"><span class=\"toc-item-num\">6&nbsp;&nbsp;</span>Top Cross Unmatched (After inversion)</a></span></li><li><span><a href=\"http://localhost:8888/notebooks/rubicks_cube.ipynb#Top-Cross-Matched-(After-Inversion)\" data-toc-modified-id=\"Top-Cross-Matched-(After-Inversion)-7\"><span class=\"toc-item-num\">7&nbsp;&nbsp;</span>Top Cross Matched (After Inversion)</a></span></li><li><span><a href=\"http://localhost:8888/notebooks/rubicks_cube.ipynb#Top-Corners-Unmatched\" data-toc-modified-id=\"Top-Corners-Unmatched-8\"><span class=\"toc-item-num\">8&nbsp;&nbsp;</span>Top Corners Unmatched</a></span></li><li><span><a href=\"http://localhost:8888/notebooks/rubicks_cube.ipynb#Top-Corners-Matched\" data-toc-modified-id=\"Top-Corners-Matched-9\"><span class=\"toc-item-num\">9&nbsp;&nbsp;</span>Top Corners Matched</a></span></li></ul></div>"
   ]
  },
  {
   "cell_type": "markdown",
   "metadata": {
    "collapsed": true
   },
   "source": [
    "# Solving Rubicks Cube\n",
    "\n",
    "  1. Top Cross\n",
    "  2. Top Corners\n",
    "  3. After inverting, middle layer\n",
    "  4. Top Cross Unmatched\n",
    "  5. Top Cross Matched\n",
    "  6. Top Corners Unmatched\n",
    "  7. Top Corners Matched"
   ]
  },
  {
   "cell_type": "markdown",
   "metadata": {},
   "source": [
    "# Introduction\n",
    "  - There are six faces, and six colors (Top is White).\n",
    "  - Center piece has only one face and can never be moved.\n",
    "  - Middle piece has two faces and can not be moved to corners.\n",
    "  - F and B are front and back layers. F1 is bottom left piece in front layer.\n",
    "  - U and D are up and down layers. U1 is bottom left piece in top layer.\n",
    "  - R and L are right and left layers. R1 is just right to F3. L3 is left to F1.\n",
    "  - While moving the cube layers:\n",
    "    + R means moving Right  layer up 90 degree. F6 ==> U6. Ri is opposite.\n",
    "    + U means moving up layer 90 degree clockwise. U6 ==> U3.\n",
    "    + Di means moving down layer 90 degree clockwise. R2 ==> F2.\n",
    "   \n",
    " "
   ]
  },
  {
   "cell_type": "markdown",
   "metadata": {},
   "source": [
    "# Top Cross Matched\n",
    "  - Take white as the top face.\n",
    "  - Solving top cross is easy. For example:\n",
    "  - Move green to left, blue to right.\n",
    "  - Then move orange to front and red to back.\n",
    "  - Make sure both sides of top cross matches."
   ]
  },
  {
   "cell_type": "markdown",
   "metadata": {},
   "source": [
    "# Top Corners Matched (Then invert the cube).\n",
    "  - Look for corner pieces to move them to U3.\n",
    "  - R1==>U3:    RiDiR   (Just left of  F1 to Top layer U3).\n",
    "  - L3==>U3:    RiDR  (Just right of F3 to Top layer U3)."
   ]
  },
  {
   "cell_type": "markdown",
   "metadata": {},
   "source": [
    "# Middle Layer\n",
    "  - Look for middle pieces.\n",
    "  - Move them to front-layer-right-middle.\n",
    "  - We match the color of middle piece to the face color and use one of these:\n",
    "  - F8==>F6 : UR UiRi UiFi UF  (Front-layer top-middle to front-layer-right-middle).  \n",
    "  - U6==>F6 : UiFi  UF UR UiRi (Top layer right-middle to front-layer-right-middle)."
   ]
  },
  {
   "cell_type": "markdown",
   "metadata": {},
   "source": [
    "# Top Cross Unmatched (After inversion)\n",
    "\n",
    "  - Match one of the cross and make it U4 (left-middle).\n",
    "  - Keep U4 constant and rotate other 3 pieces right, anti-clockwise.\n",
    "  - U4 is constant, F8-->U6 and U6-->U8.\n",
    "  - F RU RiUi Fi (multiple times)."
   ]
  },
  {
   "cell_type": "markdown",
   "metadata": {},
   "source": [
    "# Top Cross Matched (After Inversion)\n",
    "  - Make U2 constant, move other pieces left, clockwise.\n",
    "  - Place two adjacent correct mid pieces at Right and Back and use this formula:\n",
    "  - RU RiU RUURi (multiple times)."
   ]
  },
  {
   "cell_type": "markdown",
   "metadata": {},
   "source": [
    "# Top Corners Unmatched\n",
    "  - After RU formula we use RiU formula.\n",
    "  - Keep U7 constant, move other pieces left, clockwise rotation.\n",
    "  - RiU LiUi RU LUi (multiple times)."
   ]
  },
  {
   "cell_type": "markdown",
   "metadata": {},
   "source": [
    "# Top Corners Matched\n",
    "  - Left corners same, right changes.\n",
    "  - Right corners flipflop formula.\n",
    "  - U1, U7 same and cross obviously unchanged.\n",
    "  - For U3: right goes to top and top goes right.\n",
    "  - For U9: right goes to top and top goes back.\n",
    "  - RiUUR URiUR --- LiUUL UiLiUiL (multiple times).\n",
    "  \n",
    "  Aliter:\n",
    "    - Take unmatched U3 towards you and rotate U after making one good.\n",
    "    - RiDi RD (6 times make the same).\n",
    "    - Di is <-- "
   ]
  },
  {
   "cell_type": "code",
   "execution_count": null,
   "metadata": {},
   "outputs": [],
   "source": []
  }
 ],
 "metadata": {
  "hide_code_all_hidden": false,
  "kernelspec": {
   "display_name": "Python 3",
   "language": "python",
   "name": "python3"
  },
  "language_info": {
   "codemirror_mode": {
    "name": "ipython",
    "version": 3
   },
   "file_extension": ".py",
   "mimetype": "text/x-python",
   "name": "python",
   "nbconvert_exporter": "python",
   "pygments_lexer": "ipython3",
   "version": "3.6.3"
  },
  "toc": {
   "nav_menu": {
    "height": "171px",
    "width": "252px"
   },
   "number_sections": true,
   "sideBar": true,
   "skip_h1_title": false,
   "toc_cell": true,
   "toc_position": {},
   "toc_section_display": "block",
   "toc_window_display": true
  }
 },
 "nbformat": 4,
 "nbformat_minor": 1
}
